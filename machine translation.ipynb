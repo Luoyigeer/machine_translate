{
 "cells": [
  {
   "cell_type": "code",
   "execution_count": 2,
   "id": "initial_id",
   "metadata": {
    "execution": {
     "iopub.execute_input": "2025-02-19T12:54:41.625260Z",
     "iopub.status.busy": "2025-02-19T12:54:41.624772Z",
     "iopub.status.idle": "2025-02-19T12:54:45.189906Z",
     "shell.execute_reply": "2025-02-19T12:54:45.189048Z",
     "shell.execute_reply.started": "2025-02-19T12:54:41.625225Z"
    },
    "tags": []
   },
   "outputs": [],
   "source": [
    "import math  # 导入 math 模块，用于数学函数\n",
    "import torchtext  # 导入 torchtext 库，用于文本处理工具\n",
    "import torch  # 导入 PyTorch 深度学习框架\n",
    "import torch.nn as nn  # 从 PyTorch 导入神经网络模块\n",
    "from torch import Tensor  # 从 torch 导入 Tensor 类\n",
    "from torch.nn.utils.rnn import pad_sequence  # 导入用于批量填充序列的函数\n",
    "from torch.utils.data import DataLoader  # 从 PyTorch 导入 DataLoader 类，用于处理数据集\n",
    "from collections import Counter  # 从 collections 模块导入 Counter 类，用于计数可哈希对象\n",
    "from torchtext.vocab import Vocab  # 从 torchtext.vocab 导入 Vocab 类，用于处理词汇表\n",
    "from torch.nn import TransformerEncoder, TransformerDecoder, TransformerEncoderLayer, TransformerDecoderLayer  # 从 PyTorch 导入 Transformer 模型架构的类和函数\n",
    "import io  # 导入 io 模块，用于处理流\n",
    "import time  # 导入 time 模块，用于处理时间相关的函数\n",
    "import pandas as pd  # 导入 pandas 库，用于数据处理和分析\n",
    "import numpy as np  # 导入 numpy 库，用于数值操作\n",
    "import pickle  # 导入 pickle 模块，用于序列化和反序列化 Python 对象\n",
    "import tqdm  # 导入 tqdm 库，用于显示进度条\n",
    "import sentencepiece as spm  # 导入 sentencepiece 库，用于分词\n",
    " \n",
    "torch.manual_seed(0)  # 设置随机种子以便复现性\n",
    "device = torch.device('cuda' if torch.cuda.is_available() else 'cpu')  # 检查是否有 GPU 可用，根据情况设置设备"
   ]
  },
  {
   "cell_type": "code",
   "execution_count": 3,
   "id": "3b98303aef7e8a50",
   "metadata": {
    "execution": {
     "iopub.execute_input": "2025-02-19T12:54:49.035724Z",
     "iopub.status.busy": "2025-02-19T12:54:49.035065Z",
     "iopub.status.idle": "2025-02-19T12:54:49.043466Z",
     "shell.execute_reply": "2025-02-19T12:54:49.042747Z",
     "shell.execute_reply.started": "2025-02-19T12:54:49.035685Z"
    },
    "tags": []
   },
   "outputs": [
    {
     "data": {
      "text/plain": [
       "device(type='cuda')"
      ]
     },
     "execution_count": 3,
     "metadata": {},
     "output_type": "execute_result"
    }
   ],
   "source": [
    "device #检查设备是否为cuda"
   ]
  },
  {
   "cell_type": "code",
   "execution_count": 4,
   "id": "8bd77b65d573efa5",
   "metadata": {
    "ExecutionIndicator": {
     "show": true
    },
    "execution": {
     "iopub.execute_input": "2025-02-19T12:54:58.895072Z",
     "iopub.status.busy": "2025-02-19T12:54:58.894562Z",
     "iopub.status.idle": "2025-02-19T12:54:59.565363Z",
     "shell.execute_reply": "2025-02-19T12:54:59.564505Z",
     "shell.execute_reply.started": "2025-02-19T12:54:58.895037Z"
    },
    "tags": []
   },
   "outputs": [
    {
     "data": {
      "text/plain": [
       "'2014年と2017年のサンデータイムズ紙によってイギリス国内で生活に最も適した街と名付けられ、またヨーロッパグリーンキャピタルの賞も受賞しています。'"
      ]
     },
     "execution_count": 4,
     "metadata": {},
     "output_type": "execute_result"
    }
   ],
   "source": [
    "# 读取数据集\n",
    "df = pd.read_csv('zh-ja.bicleaner05.txt', sep='\\\\t', engine='python', header=None)\n",
    "trainen = df[2].values.tolist() # 句子的英文部分存储在 trainen 列表中\n",
    "trainja = df[3].values.tolist() # 句子的日文部分存储在 trainja 列表中\n",
    " \n",
    "# 删除指定索引处的句子（第 5972 行）\n",
    "trainen.pop(5972) \n",
    "trainja.pop(5972) "
   ]
  },
  {
   "cell_type": "code",
   "execution_count": 5,
   "id": "efbf25df0946d070",
   "metadata": {
    "execution": {
     "iopub.execute_input": "2025-02-19T12:55:02.243783Z",
     "iopub.status.busy": "2025-02-19T12:55:02.243273Z",
     "iopub.status.idle": "2025-02-19T12:55:02.248206Z",
     "shell.execute_reply": "2025-02-19T12:55:02.247462Z",
     "shell.execute_reply.started": "2025-02-19T12:55:02.243747Z"
    },
    "tags": []
   },
   "outputs": [
    {
     "name": "stdout",
     "output_type": "stream",
     "text": [
      "Chinese HS Code Harmonized Code System < HS编码 2905 无环醇及其卤化、磺化、硝化或亚硝化衍生物 HS Code List (Harmonized System Code) for US, UK, EU, China, India, France, Japan, Russia, Germany, Korea, Canada ...\n",
      "Japanese HS Code Harmonized Code System < HSコード 2905 非環式アルコール並びにそのハロゲン化誘導体、スルホン化誘導体、ニトロ化誘導体及びニトロソ化誘導体 HS Code List (Harmonized System Code) for US, UK, EU, China, India, France, Japan, Russia, Germany, Korea, Canada ...\n"
     ]
    }
   ],
   "source": [
    "print(trainen[500])\n",
    "# 打印中文数据\n",
    "print(trainja[500])\n",
    "# 打印日文数据"
   ]
  },
  {
   "cell_type": "code",
   "execution_count": 6,
   "id": "7f6ce794a43968d8",
   "metadata": {
    "execution": {
     "iopub.execute_input": "2025-02-19T12:55:04.555508Z",
     "iopub.status.busy": "2025-02-19T12:55:04.554999Z",
     "iopub.status.idle": "2025-02-19T12:55:04.662556Z",
     "shell.execute_reply": "2025-02-19T12:55:04.661641Z",
     "shell.execute_reply.started": "2025-02-19T12:55:04.555471Z"
    },
    "tags": []
   },
   "outputs": [],
   "source": [
    "#加载中文分词模型文件\n",
    "en_tokenizer = spm.SentencePieceProcessor(model_file='spm.en.nopretok.model') \n",
    "#加载日文分词模型文件\n",
    "ja_tokenizer = spm.SentencePieceProcessor(model_file='spm.ja.nopretok.model') "
   ]
  },
  {
   "cell_type": "code",
   "execution_count": 7,
   "id": "692291f23c6d4b75",
   "metadata": {
    "ExecutionIndicator": {
     "show": true
    },
    "execution": {
     "iopub.execute_input": "2025-02-19T12:55:06.613011Z",
     "iopub.status.busy": "2025-02-19T12:55:06.612498Z",
     "iopub.status.idle": "2025-02-19T12:55:06.618884Z",
     "shell.execute_reply": "2025-02-19T12:55:06.618110Z",
     "shell.execute_reply.started": "2025-02-19T12:55:06.612977Z"
    },
    "tags": []
   },
   "outputs": [
    {
     "name": "stdout",
     "output_type": "stream",
     "text": [
      "[335, 2728, 8692, 491, 7, 8446, 151, 87, 593, 11, 68, 167, 13797, 11, 412, 6895, 98, 5]\n",
      "All residents aged 20 to 59 years who live in Japan must enroll in public pension system.\n",
      "--------------------------------------------------\n",
      "[4, 6866, 714, 12628, 210, 1550, 306, 1077, 5231, 1092, 830, 3, 7503, 6866, 786, 10, 8556, 4600, 5]\n",
      "年金 日本に住んでいる20歳~60歳の全ての人は、公的年金制度に加入しなければなりません。\n"
     ]
    }
   ],
   "source": [
    "# 示例文本编码和解码\n",
    "encoded_sentence = en_tokenizer.encode(\"All residents aged 20 to 59 years who live in Japan must enroll in public pension system.\")\n",
    "print(encoded_sentence)\n",
    "decoded_sentence = en_tokenizer.decode(encoded_sentence)\n",
    "print(decoded_sentence)\n",
    "print('-'*50)\n",
    "# 示例日文文本编码和解码\n",
    "encoded_sentence = ja_tokenizer.encode(\"年金 日本に住んでいる20歳~60歳の全ての人は、公的年金制度に加入しなければなりません。\")\n",
    "print(encoded_sentence)\n",
    "decoded_sentence = ja_tokenizer.decode(encoded_sentence)\n",
    "print(decoded_sentence)"
   ]
  },
  {
   "cell_type": "code",
   "execution_count": 9,
   "id": "e24f763e-3a17-4747-8ebf-2093bd1e7b2a",
   "metadata": {
    "execution": {
     "iopub.execute_input": "2025-02-19T12:55:46.161004Z",
     "iopub.status.busy": "2025-02-19T12:55:46.160483Z",
     "iopub.status.idle": "2025-02-19T12:55:46.165508Z",
     "shell.execute_reply": "2025-02-19T12:55:46.164614Z",
     "shell.execute_reply.started": "2025-02-19T12:55:46.160968Z"
    },
    "tags": []
   },
   "outputs": [
    {
     "name": "stdout",
     "output_type": "stream",
     "text": [
      "0.6.0\n"
     ]
    }
   ],
   "source": [
    "print(torchtext.__version__)"
   ]
  },
  {
   "cell_type": "code",
   "execution_count": 11,
   "id": "e582bf00a76f6f95",
   "metadata": {
    "ExecutionIndicator": {
     "show": true
    },
    "execution": {
     "iopub.execute_input": "2025-02-19T12:56:18.539907Z",
     "iopub.status.busy": "2025-02-19T12:56:18.539401Z",
     "iopub.status.idle": "2025-02-19T12:56:27.607357Z",
     "shell.execute_reply": "2025-02-19T12:56:27.606548Z",
     "shell.execute_reply.started": "2025-02-19T12:56:18.539871Z"
    },
    "tags": []
   },
   "outputs": [],
   "source": [
    "# 构建词汇表\n",
    "def build_vocab(sentences, tokenizer):\n",
    "    counter = Counter()\n",
    "    for sentence in sentences:\n",
    "        counter.update(tokenizer.encode(sentence, out_type=str))\n",
    "    return Vocab(counter, specials=['<unk>', '<pad>', '<bos>', '<eos>'])\n",
    "# 使用 build_vocab 函数分别为日语 (trainja) 和英语 (trainen) 句子构建词汇表。\n",
    "ja_vocab = build_vocab(trainja, ja_tokenizer)\n",
    "en_vocab = build_vocab(trainen, en_tokenizer)"
   ]
  },
  {
   "cell_type": "code",
   "execution_count": 12,
   "id": "fd1a6dcdc5256ac1",
   "metadata": {
    "execution": {
     "iopub.execute_input": "2025-02-19T12:56:30.198666Z",
     "iopub.status.busy": "2025-02-19T12:56:30.198164Z",
     "iopub.status.idle": "2025-02-19T12:56:46.534017Z",
     "shell.execute_reply": "2025-02-19T12:56:46.533173Z",
     "shell.execute_reply.started": "2025-02-19T12:56:30.198628Z"
    },
    "tags": []
   },
   "outputs": [],
   "source": [
    "# 数据处理函数，将文本转换为张量形式\n",
    "def data_process(ja, en):\n",
    "    data = []\n",
    "    for (raw_ja, raw_en) in zip(ja, en):\n",
    "        ja_tensor_ = torch.tensor([ja_vocab[token] for token in ja_tokenizer.encode(raw_ja.rstrip(\"\\n\"), out_type=str)],\n",
    "                            dtype=torch.long)\n",
    "        en_tensor_ = torch.tensor([en_vocab[token] for token in en_tokenizer.encode(raw_en.rstrip(\"\\n\"), out_type=str)],\n",
    "                            dtype=torch.long)\n",
    "        data.append((ja_tensor_, en_tensor_))\n",
    "    return data\n",
    "# 使用 data_process 函数处理训练数据 (trainja 和 trainen)，并将处理后的数据存储在 train_data 中。\n",
    "train_data = data_process(trainja, trainen)"
   ]
  },
  {
   "cell_type": "code",
   "execution_count": 13,
   "id": "9f51c922a8c45176",
   "metadata": {
    "execution": {
     "iopub.execute_input": "2025-02-19T12:56:49.007542Z",
     "iopub.status.busy": "2025-02-19T12:56:49.007023Z",
     "iopub.status.idle": "2025-02-19T12:56:49.014580Z",
     "shell.execute_reply": "2025-02-19T12:56:49.013771Z",
     "shell.execute_reply.started": "2025-02-19T12:56:49.007506Z"
    },
    "tags": []
   },
   "outputs": [],
   "source": [
    "# 设置批处理大小和填充索引\n",
    "BATCH_SIZE = 8\n",
    "PAD_IDX = ja_vocab['<pad>']\n",
    "BOS_IDX = ja_vocab['<bos>']\n",
    "EOS_IDX = ja_vocab['<eos>']\n",
    " \n",
    "# 生成批处理数据函数\n",
    "def generate_batch(data_batch):\n",
    "    ja_batch, en_batch = [], []\n",
    "    for (ja_item, en_item) in data_batch:\n",
    "        # 在每个句子的开始和结尾添加特殊标记\n",
    "        ja_batch.append(torch.cat([torch.tensor([BOS_IDX]), ja_item, torch.tensor([EOS_IDX])], dim=0))\n",
    "        en_batch.append(torch.cat([torch.tensor([BOS_IDX]), en_item, torch.tensor([EOS_IDX])], dim=0))\n",
    "    # 使用pad_sequence对批次进行填充\n",
    "    ja_batch = pad_sequence(ja_batch, padding_value=PAD_IDX)\n",
    "    en_batch = pad_sequence(en_batch, padding_value=PAD_IDX)\n",
    "    return ja_batch, en_batch\n",
    "# 创建数据加载器\n",
    "train_iter = DataLoader(train_data, batch_size=BATCH_SIZE,shuffle=True, collate_fn=generate_batch)"
   ]
  },
  {
   "cell_type": "markdown",
   "id": "ccc3ae80ab3c6519",
   "metadata": {},
   "source": [
    "# Transformer模型\n",
    "Transformer 是“Attention is all you need”论文中介绍的用于解决机器翻译任务的 Seq2Seq 模型。Transformer 模型由一个编码器和解码器块组成，每个块包含固定数量的层."
   ]
  },
  {
   "cell_type": "code",
   "execution_count": 14,
   "id": "4ade98c853dbd3c",
   "metadata": {
    "execution": {
     "iopub.execute_input": "2025-02-19T12:56:52.027879Z",
     "iopub.status.busy": "2025-02-19T12:56:52.027116Z",
     "iopub.status.idle": "2025-02-19T12:56:52.037914Z",
     "shell.execute_reply": "2025-02-19T12:56:52.037121Z",
     "shell.execute_reply.started": "2025-02-19T12:56:52.027837Z"
    },
    "tags": []
   },
   "outputs": [],
   "source": [
    "from torch.nn import (TransformerEncoder, TransformerDecoder,\n",
    "                      TransformerEncoderLayer, TransformerDecoderLayer)\n",
    " \n",
    " \n",
    "# 定义Seq2SeqTransformer模型\n",
    "class Seq2SeqTransformer(nn.Module):\n",
    "    def __init__(self, num_encoder_layers: int, num_decoder_layers: int,\n",
    "                 emb_size: int, src_vocab_size: int, tgt_vocab_size: int,\n",
    "                 dim_feedforward:int = 512, dropout:float = 0.1):\n",
    "        super(Seq2SeqTransformer, self).__init__()\n",
    "        \n",
    "        # 创建Transformer编码器和解码器层\n",
    "        encoder_layer = TransformerEncoderLayer(d_model=emb_size, nhead=NHEAD,\n",
    "                                                dim_feedforward=dim_feedforward)\n",
    "        self.transformer_encoder = TransformerEncoder(encoder_layer, num_layers=num_encoder_layers)\n",
    "        \n",
    "        decoder_layer = TransformerDecoderLayer(d_model=emb_size, nhead=NHEAD,\n",
    "                                                dim_feedforward=dim_feedforward)\n",
    "        self.transformer_decoder = TransformerDecoder(decoder_layer, num_layers=num_decoder_layers)\n",
    " \n",
    "        # 生成器层\n",
    "        self.generator = nn.Linear(emb_size, tgt_vocab_size)\n",
    "        \n",
    "        # 源和目标标记嵌入\n",
    "        self.src_tok_emb = TokenEmbedding(src_vocab_size, emb_size)\n",
    "        self.tgt_tok_emb = TokenEmbedding(tgt_vocab_size, emb_size)\n",
    "        \n",
    "        # 位置编码层\n",
    "        self.positional_encoding = PositionalEncoding(emb_size, dropout=dropout)\n",
    " \n",
    "    def forward(self, src: Tensor, tgt: Tensor, src_mask: Tensor,\n",
    "                tgt_mask: Tensor, src_padding_mask: Tensor,\n",
    "                tgt_padding_mask: Tensor, memory_key_padding_mask: Tensor):\n",
    "        \n",
    "        # 编码器和解码器的前向传播\n",
    "        src_emb = self.positional_encoding(self.src_tok_emb(src))\n",
    "        tgt_emb = self.positional_encoding(self.tgt_tok_emb(tgt))\n",
    "        \n",
    "        memory = self.transformer_encoder(src_emb, src_mask, src_padding_mask)\n",
    "        \n",
    "        outs = self.transformer_decoder(tgt_emb, memory, tgt_mask, None,\n",
    "                                        tgt_padding_mask, memory_key_padding_mask)\n",
    "        return self.generator(outs)\n",
    " \n",
    "    def encode(self, src: Tensor, src_mask: Tensor):\n",
    "        # 编码器的前向传播\n",
    "        return self.transformer_encoder(self.positional_encoding(\n",
    "                            self.src_tok_emb(src)), src_mask)\n",
    " \n",
    "    def decode(self, tgt: Tensor, memory: Tensor, tgt_mask: Tensor):\n",
    "        # 解码器的前向传播\n",
    "        return self.transformer_decoder(self.positional_encoding(\n",
    "                          self.tgt_tok_emb(tgt)), memory,\n",
    "                          tgt_mask)"
   ]
  },
  {
   "cell_type": "code",
   "execution_count": 15,
   "id": "a7326bea7937f017",
   "metadata": {
    "execution": {
     "iopub.execute_input": "2025-02-19T12:56:54.722229Z",
     "iopub.status.busy": "2025-02-19T12:56:54.721715Z",
     "iopub.status.idle": "2025-02-19T12:56:54.730840Z",
     "shell.execute_reply": "2025-02-19T12:56:54.730041Z",
     "shell.execute_reply.started": "2025-02-19T12:56:54.722195Z"
    },
    "tags": []
   },
   "outputs": [],
   "source": [
    "# 定义位置编码器类\n",
    "class PositionalEncoding(nn.Module):\n",
    "    def __init__(self, emb_size: int, dropout, maxlen: int = 5000):\n",
    "        super(PositionalEncoding, self).__init__()\n",
    "        # 初始化位置编码矩阵\n",
    "        den = torch.exp(- torch.arange(0, emb_size, 2) * math.log(10000) / emb_size)# 计算位置编码的分母\n",
    "        pos = torch.arange(0, maxlen).reshape(maxlen, 1)\n",
    "        pos_embedding = torch.zeros((maxlen, emb_size))# 初始化位置编码矩阵\n",
    "        pos_embedding[:, 0::2] = torch.sin(pos * den)# 在偶数索引位置计算sin函数\n",
    "        pos_embedding[:, 1::2] = torch.cos(pos * den)# 在奇数索引位置计算cos函数\n",
    "        pos_embedding = pos_embedding.unsqueeze(-2)\n",
    " \n",
    "        self.dropout = nn.Dropout(dropout)  # 定义Dropout层\n",
    "        self.register_buffer('pos_embedding', pos_embedding)\n",
    " \n",
    "    def forward(self, token_embedding: Tensor):\n",
    "         # 将位置编码加入到输入的嵌入向量中，并应用Dropout\n",
    "        return self.dropout(token_embedding + self.pos_embedding[:token_embedding.size(0), :])\n",
    " \n",
    " \n",
    "# 定义标记嵌入器类\n",
    "class TokenEmbedding(nn.Module):\n",
    "    def __init__(self, vocab_size: int, emb_size):\n",
    "        super(TokenEmbedding, self).__init__()\n",
    "        self.embedding = nn.Embedding(vocab_size, emb_size)\n",
    "        self.emb_size = emb_size\n",
    " \n",
    "    def forward(self, tokens: Tensor):\n",
    "        # 获取标记的嵌入表示并缩放\n",
    "        return self.embedding(tokens.long()) * math.sqrt(self.emb_size)"
   ]
  },
  {
   "cell_type": "code",
   "execution_count": 16,
   "id": "41bf37535ff41476",
   "metadata": {
    "execution": {
     "iopub.execute_input": "2025-02-19T12:56:57.579739Z",
     "iopub.status.busy": "2025-02-19T12:56:57.579230Z",
     "iopub.status.idle": "2025-02-19T12:56:57.586091Z",
     "shell.execute_reply": "2025-02-19T12:56:57.585249Z",
     "shell.execute_reply.started": "2025-02-19T12:56:57.579702Z"
    },
    "tags": []
   },
   "outputs": [],
   "source": [
    "# 生成方形的后续掩码函数\n",
    "def generate_square_subsequent_mask(sz):\n",
    "    mask = (torch.triu(torch.ones((sz, sz), device=device)) == 1).transpose(0, 1)\n",
    "    mask = mask.float().masked_fill(mask == 0, float('-inf')).masked_fill(mask == 1, float(0.0))\n",
    "    return mask\n",
    " \n",
    "# 创建掩码函数\n",
    "def create_mask(src, tgt):\n",
    "    src_seq_len = src.shape[0]\n",
    "    tgt_seq_len = tgt.shape[0]\n",
    " \n",
    "    tgt_mask = generate_square_subsequent_mask(tgt_seq_len)\n",
    "    src_mask = torch.zeros((src_seq_len, src_seq_len), device=device).type(torch.bool)\n",
    " \n",
    "    src_padding_mask = (src == PAD_IDX).transpose(0, 1)\n",
    "    tgt_padding_mask = (tgt == PAD_IDX).transpose(0, 1)\n",
    "    return src_mask, tgt_mask, src_padding_mask, tgt_padding_mask"
   ]
  },
  {
   "cell_type": "code",
   "execution_count": 17,
   "id": "43329055b8a0398e",
   "metadata": {
    "execution": {
     "iopub.execute_input": "2025-02-19T12:56:59.605127Z",
     "iopub.status.busy": "2025-02-19T12:56:59.604375Z",
     "iopub.status.idle": "2025-02-19T12:57:03.574627Z",
     "shell.execute_reply": "2025-02-19T12:57:03.573635Z",
     "shell.execute_reply.started": "2025-02-19T12:56:59.605081Z"
    },
    "tags": []
   },
   "outputs": [
    {
     "name": "stderr",
     "output_type": "stream",
     "text": [
      "/usr/local/lib/python3.10/site-packages/torch/nn/modules/transformer.py:306: UserWarning: enable_nested_tensor is True, but self.use_nested_tensor is False because encoder_layer.self_attn.batch_first was not True(use batch_first for better inference performance)\n",
      "  warnings.warn(f\"enable_nested_tensor is True, but self.use_nested_tensor is False because {why_not_sparsity_fast_path}\")\n"
     ]
    }
   ],
   "source": [
    "# 创建Seq2SeqTransformer模型实例\n",
    "SRC_VOCAB_SIZE = len(ja_vocab)\n",
    "TGT_VOCAB_SIZE = len(en_vocab)\n",
    "EMB_SIZE = 512\n",
    "NHEAD = 8\n",
    "FFN_HID_DIM = 512\n",
    "BATCH_SIZE = 16\n",
    "NUM_ENCODER_LAYERS = 3\n",
    "NUM_DECODER_LAYERS = 3\n",
    "NUM_EPOCHS = 16\n",
    "transformer = Seq2SeqTransformer(NUM_ENCODER_LAYERS, NUM_DECODER_LAYERS,\n",
    "                                 EMB_SIZE, SRC_VOCAB_SIZE, TGT_VOCAB_SIZE,\n",
    "                                 FFN_HID_DIM)\n",
    " \n",
    "for p in transformer.parameters():\n",
    "    if p.dim() > 1:\n",
    "        nn.init.xavier_uniform_(p)\n",
    " \n",
    "transformer = transformer.to(device)\n",
    " \n",
    "# 定义损失函数和优化器\n",
    "loss_fn = torch.nn.CrossEntropyLoss(ignore_index=PAD_IDX)\n",
    " \n",
    "optimizer = torch.optim.Adam(\n",
    "    transformer.parameters(), lr=0.0001, betas=(0.9, 0.98), eps=1e-9\n",
    ")\n",
    " \n",
    "# 训练一个epoch的函数\n",
    "def train_epoch(model, train_iter, optimizer):\n",
    "    model.train()\n",
    "    losses = 0\n",
    "    for idx, (src, tgt) in  enumerate(train_iter):\n",
    "        src = src.to(device)\n",
    "        tgt = tgt.to(device)\n",
    " \n",
    "        tgt_input = tgt[:-1, :]\n",
    " \n",
    "        src_mask, tgt_mask, src_padding_mask, tgt_padding_mask = create_mask(src, tgt_input)\n",
    " \n",
    "        logits = model(src, tgt_input, src_mask, tgt_mask,\n",
    "                                src_padding_mask, tgt_padding_mask, src_padding_mask)\n",
    " \n",
    "        optimizer.zero_grad()\n",
    " \n",
    "        tgt_out = tgt[1:,:]\n",
    "        loss = loss_fn(logits.reshape(-1, logits.shape[-1]), tgt_out.reshape(-1))\n",
    "        loss.backward()\n",
    " \n",
    "        optimizer.step()\n",
    "        losses += loss.item()\n",
    "    return losses / len(train_iter)\n",
    " \n",
    "# 评估函数\n",
    "def evaluate(model, val_iter):\n",
    "    model.eval()\n",
    "    losses = 0\n",
    "    for idx, (src, tgt) in (enumerate(valid_iter)):\n",
    "        src = src.to(device)\n",
    "        tgt = tgt.to(device)\n",
    " \n",
    "        tgt_input = tgt[:-1, :]\n",
    " \n",
    "        src_mask, tgt_mask, src_padding_mask, tgt_padding_mask = create_mask(src, tgt_input)\n",
    " \n",
    "        logits = model(src, tgt_input, src_mask, tgt_mask,\n",
    "                              src_padding_mask, tgt_padding_mask, src_padding_mask)\n",
    "        tgt_out = tgt[1:,:]\n",
    "        loss = loss_fn(logits.reshape(-1, logits.shape[-1]), tgt_out.reshape(-1))\n",
    "        losses += loss.item()\n",
    "    return losses / len(val_iter)"
   ]
  },
  {
   "cell_type": "code",
   "execution_count": 19,
   "id": "ee49b705d86acbc",
   "metadata": {
    "execution": {
     "iopub.execute_input": "2025-02-19T13:00:04.129789Z",
     "iopub.status.busy": "2025-02-19T13:00:04.129279Z",
     "iopub.status.idle": "2025-02-19T14:13:07.520063Z",
     "shell.execute_reply": "2025-02-19T14:13:07.519251Z",
     "shell.execute_reply.started": "2025-02-19T13:00:04.129751Z"
    },
    "tags": []
   },
   "outputs": [
    {
     "name": "stderr",
     "output_type": "stream",
     "text": [
      "  0%|          | 0/16 [00:00<?, ?it/s]/usr/local/lib/python3.10/site-packages/torch/nn/functional.py:5137: UserWarning: Support for mismatched key_padding_mask and attn_mask is deprecated. Use same type for both instead.\n",
      "  warnings.warn(\n",
      "  6%|▋         | 1/16 [04:35<1:08:54, 275.64s/it]"
     ]
    },
    {
     "name": "stdout",
     "output_type": "stream",
     "text": [
      "Epoch: 1, Train loss: 3.737, Epoch time = 275.638s\n"
     ]
    },
    {
     "name": "stderr",
     "output_type": "stream",
     "text": [
      " 12%|█▎        | 2/16 [09:11<1:04:19, 275.66s/it]"
     ]
    },
    {
     "name": "stdout",
     "output_type": "stream",
     "text": [
      "Epoch: 2, Train loss: 3.237, Epoch time = 275.676s\n"
     ]
    },
    {
     "name": "stderr",
     "output_type": "stream",
     "text": [
      " 19%|█▉        | 3/16 [13:46<59:42, 275.60s/it]  "
     ]
    },
    {
     "name": "stdout",
     "output_type": "stream",
     "text": [
      "Epoch: 3, Train loss: 2.902, Epoch time = 275.522s\n"
     ]
    },
    {
     "name": "stderr",
     "output_type": "stream",
     "text": [
      " 25%|██▌       | 4/16 [18:22<55:05, 275.44s/it]"
     ]
    },
    {
     "name": "stdout",
     "output_type": "stream",
     "text": [
      "Epoch: 4, Train loss: 2.652, Epoch time = 275.202s\n"
     ]
    },
    {
     "name": "stderr",
     "output_type": "stream",
     "text": [
      " 31%|███▏      | 5/16 [22:56<50:27, 275.19s/it]"
     ]
    },
    {
     "name": "stdout",
     "output_type": "stream",
     "text": [
      "Epoch: 5, Train loss: 2.464, Epoch time = 274.730s\n"
     ]
    },
    {
     "name": "stderr",
     "output_type": "stream",
     "text": [
      " 38%|███▊      | 6/16 [27:31<45:51, 275.20s/it]"
     ]
    },
    {
     "name": "stdout",
     "output_type": "stream",
     "text": [
      "Epoch: 6, Train loss: 2.332, Epoch time = 275.215s\n"
     ]
    },
    {
     "name": "stderr",
     "output_type": "stream",
     "text": [
      " 44%|████▍     | 7/16 [32:06<41:15, 275.06s/it]"
     ]
    },
    {
     "name": "stdout",
     "output_type": "stream",
     "text": [
      "Epoch: 7, Train loss: 2.237, Epoch time = 274.774s\n"
     ]
    },
    {
     "name": "stderr",
     "output_type": "stream",
     "text": [
      " 50%|█████     | 8/16 [36:40<36:37, 274.71s/it]"
     ]
    },
    {
     "name": "stdout",
     "output_type": "stream",
     "text": [
      "Epoch: 8, Train loss: 2.147, Epoch time = 273.961s\n"
     ]
    },
    {
     "name": "stderr",
     "output_type": "stream",
     "text": [
      " 56%|█████▋    | 9/16 [41:13<31:58, 274.10s/it]"
     ]
    },
    {
     "name": "stdout",
     "output_type": "stream",
     "text": [
      "Epoch: 9, Train loss: 2.070, Epoch time = 272.750s\n"
     ]
    },
    {
     "name": "stderr",
     "output_type": "stream",
     "text": [
      " 62%|██████▎   | 10/16 [45:46<27:22, 273.71s/it]"
     ]
    },
    {
     "name": "stdout",
     "output_type": "stream",
     "text": [
      "Epoch: 10, Train loss: 2.004, Epoch time = 272.851s\n"
     ]
    },
    {
     "name": "stderr",
     "output_type": "stream",
     "text": [
      " 69%|██████▉   | 11/16 [50:19<22:48, 273.68s/it]"
     ]
    },
    {
     "name": "stdout",
     "output_type": "stream",
     "text": [
      "Epoch: 11, Train loss: 1.950, Epoch time = 273.592s\n"
     ]
    },
    {
     "name": "stderr",
     "output_type": "stream",
     "text": [
      " 75%|███████▌  | 12/16 [54:53<18:14, 273.51s/it]"
     ]
    },
    {
     "name": "stdout",
     "output_type": "stream",
     "text": [
      "Epoch: 12, Train loss: 1.901, Epoch time = 273.125s\n"
     ]
    },
    {
     "name": "stderr",
     "output_type": "stream",
     "text": [
      " 81%|████████▏ | 13/16 [59:25<13:39, 273.26s/it]"
     ]
    },
    {
     "name": "stdout",
     "output_type": "stream",
     "text": [
      "Epoch: 13, Train loss: 1.856, Epoch time = 272.683s\n"
     ]
    },
    {
     "name": "stderr",
     "output_type": "stream",
     "text": [
      " 88%|████████▊ | 14/16 [1:03:58<09:06, 273.04s/it]"
     ]
    },
    {
     "name": "stdout",
     "output_type": "stream",
     "text": [
      "Epoch: 14, Train loss: 1.818, Epoch time = 272.549s\n"
     ]
    },
    {
     "name": "stderr",
     "output_type": "stream",
     "text": [
      " 94%|█████████▍| 15/16 [1:08:30<04:32, 272.89s/it]"
     ]
    },
    {
     "name": "stdout",
     "output_type": "stream",
     "text": [
      "Epoch: 15, Train loss: 1.781, Epoch time = 272.545s\n"
     ]
    },
    {
     "name": "stderr",
     "output_type": "stream",
     "text": [
      "100%|██████████| 16/16 [1:13:03<00:00, 273.96s/it]"
     ]
    },
    {
     "name": "stdout",
     "output_type": "stream",
     "text": [
      "Epoch: 16, Train loss: 1.748, Epoch time = 272.553s\n"
     ]
    },
    {
     "name": "stderr",
     "output_type": "stream",
     "text": [
      "\n"
     ]
    }
   ],
   "source": [
    "# 训练模型\n",
    "for epoch in tqdm.tqdm(range(1, NUM_EPOCHS+1)):\n",
    "    start_time = time.time()\n",
    "    train_loss = train_epoch(transformer, train_iter, optimizer)\n",
    "    end_time = time.time()\n",
    "    print((f\"Epoch: {epoch}, Train loss: {train_loss:.3f}, \"\n",
    "          f\"Epoch time = {(end_time - start_time):.3f}s\"))"
   ]
  },
  {
   "cell_type": "code",
   "execution_count": 20,
   "id": "41a35fda5d6d4aaa",
   "metadata": {
    "execution": {
     "iopub.execute_input": "2025-02-19T14:25:52.747840Z",
     "iopub.status.busy": "2025-02-19T14:25:52.747316Z",
     "iopub.status.idle": "2025-02-19T14:25:52.757961Z",
     "shell.execute_reply": "2025-02-19T14:25:52.757217Z",
     "shell.execute_reply.started": "2025-02-19T14:25:52.747801Z"
    },
    "tags": []
   },
   "outputs": [],
   "source": [
    "# 贪婪解码函数\n",
    "def greedy_decode(model, src, src_mask, max_len, start_symbol):\n",
    "    src = src.to(device)\n",
    "    src_mask = src_mask.to(device)\n",
    "    memory = model.encode(src, src_mask)\n",
    "    ys = torch.ones(1, 1).fill_(start_symbol).type(torch.long).to(device)\n",
    "    for i in range(max_len-1):\n",
    "        memory = memory.to(device)\n",
    "        memory_mask = torch.zeros(ys.shape[0], memory.shape[0]).to(device).type(torch.bool)\n",
    "        tgt_mask = (generate_square_subsequent_mask(ys.size(0))\n",
    "                                    .type(torch.bool)).to(device)\n",
    "        out = model.decode(ys, memory, tgt_mask)\n",
    "        out = out.transpose(0, 1)\n",
    "        prob = model.generator(out[:, -1])\n",
    "        _, next_word = torch.max(prob, dim = 1)\n",
    "        next_word = next_word.item()\n",
    "        ys = torch.cat([ys,\n",
    "                        torch.ones(1, 1).type_as(src.data).fill_(next_word)], dim=0)\n",
    "        if next_word == EOS_IDX:\n",
    "            break\n",
    "    return ys\n",
    " \n",
    "# 翻译函数\n",
    "def translate(model, src, src_vocab, tgt_vocab, src_tokenizer):\n",
    "    model.eval()\n",
    "    tokens = [BOS_IDX] + [src_vocab.stoi[tok] for tok in src_tokenizer.encode(src, out_type=str)]+ [EOS_IDX]\n",
    "    num_tokens = len(tokens)\n",
    "    src = (torch.LongTensor(tokens).reshape(num_tokens, 1) )\n",
    "    src_mask = (torch.zeros(num_tokens, num_tokens)).type(torch.bool)\n",
    "    tgt_tokens = greedy_decode(model,  src, src_mask, max_len=num_tokens + 5, start_symbol=BOS_IDX).flatten()\n",
    "    return \" \".join([tgt_vocab.itos[tok] for tok in tgt_tokens]).replace(\"<bos>\", \"\").replace(\"<eos>\", \"\")"
   ]
  },
  {
   "cell_type": "code",
   "execution_count": 23,
   "id": "c350f84ca79ab8d7",
   "metadata": {
    "ExecutionIndicator": {
     "show": true
    },
    "execution": {
     "iopub.execute_input": "2025-02-19T14:28:25.323121Z",
     "iopub.status.busy": "2025-02-19T14:28:25.322613Z",
     "iopub.status.idle": "2025-02-19T14:28:25.421560Z",
     "shell.execute_reply": "2025-02-19T14:28:25.420833Z",
     "shell.execute_reply.started": "2025-02-19T14:28:25.323085Z"
    },
    "tags": []
   },
   "outputs": [
    {
     "data": {
      "text/plain": [
       "' ▁HS 编 码 ▁85 15 ▁ 电 气 式 ( 包 括 电 气 加 热 气 体 ) 。 '"
      ]
     },
     "execution_count": 23,
     "metadata": {},
     "output_type": "execute_result"
    }
   ],
   "source": [
    "# 进行翻译\n",
    "translate(transformer, \"HSコード 8515 はんだ付け用、ろう付け用又は溶接用の機器(電気式(電気加熱ガス式を含む。)\", ja_vocab, en_vocab, ja_tokenizer)\n",
    " \n",
    "# 移除trainch列表中索引为5的元素（删除第6个元素）\n",
    "#trainch.pop(5)\n",
    "# 移除trainja列表中索引为5的元素（删除第6个元素）\n",
    "#.pop(5)"
   ]
  },
  {
   "cell_type": "code",
   "execution_count": 24,
   "id": "f36b604bef7f135b",
   "metadata": {
    "execution": {
     "iopub.execute_input": "2025-02-19T14:28:28.139575Z",
     "iopub.status.busy": "2025-02-19T14:28:28.139071Z",
     "iopub.status.idle": "2025-02-19T14:28:28.169366Z",
     "shell.execute_reply": "2025-02-19T14:28:28.168568Z",
     "shell.execute_reply.started": "2025-02-19T14:28:28.139539Z"
    },
    "tags": []
   },
   "outputs": [],
   "source": [
    "import pickle\n",
    "# open a file, where you want to store the data\n",
    "file = open('en_vocab.pkl', 'wb')\n",
    "# dump information to that file\n",
    "pickle.dump(en_vocab, file)\n",
    "file.close()\n",
    "file = open('ja_vocab.pkl', 'wb')\n",
    "pickle.dump(ja_vocab, file)\n",
    "file.close()"
   ]
  },
  {
   "cell_type": "code",
   "execution_count": 25,
   "id": "b2336dcb477e02af",
   "metadata": {
    "execution": {
     "iopub.execute_input": "2025-02-19T14:28:30.106787Z",
     "iopub.status.busy": "2025-02-19T14:28:30.106258Z",
     "iopub.status.idle": "2025-02-19T14:28:30.489381Z",
     "shell.execute_reply": "2025-02-19T14:28:30.488543Z",
     "shell.execute_reply.started": "2025-02-19T14:28:30.106751Z"
    },
    "tags": []
   },
   "outputs": [],
   "source": [
    "# 保存模型用于推理\n",
    "torch.save(transformer.state_dict(), 'inference_model')"
   ]
  },
  {
   "cell_type": "code",
   "execution_count": 26,
   "id": "c6e22c711964302a",
   "metadata": {
    "execution": {
     "iopub.execute_input": "2025-02-19T14:28:33.164901Z",
     "iopub.status.busy": "2025-02-19T14:28:33.164390Z",
     "iopub.status.idle": "2025-02-19T14:28:34.227216Z",
     "shell.execute_reply": "2025-02-19T14:28:34.226371Z",
     "shell.execute_reply.started": "2025-02-19T14:28:33.164865Z"
    },
    "tags": []
   },
   "outputs": [],
   "source": [
    "# 保存模型和检查点以便稍后恢复训练\n",
    "torch.save({\n",
    "  'epoch': NUM_EPOCHS,\n",
    "  'model_state_dict': transformer.state_dict(),\n",
    "  'optimizer_state_dict': optimizer.state_dict(),\n",
    "  'loss': train_loss,\n",
    "  }, 'model_checkpoint.tar')"
   ]
  },
  {
   "cell_type": "code",
   "execution_count": null,
   "id": "dddf418737bb562a",
   "metadata": {},
   "outputs": [],
   "source": []
  }
 ],
 "metadata": {
  "kernelspec": {
   "display_name": "Python 3 (ipykernel)",
   "language": "python",
   "name": "python3"
  },
  "language_info": {
   "codemirror_mode": {
    "name": "ipython",
    "version": 3
   },
   "file_extension": ".py",
   "mimetype": "text/x-python",
   "name": "python",
   "nbconvert_exporter": "python",
   "pygments_lexer": "ipython3",
   "version": "3.10.14"
  }
 },
 "nbformat": 4,
 "nbformat_minor": 5
}
